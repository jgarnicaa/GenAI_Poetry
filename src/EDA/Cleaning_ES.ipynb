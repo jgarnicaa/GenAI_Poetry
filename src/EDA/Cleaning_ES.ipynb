{
 "cells": [
  {
   "cell_type": "markdown",
   "metadata": {},
   "source": [
    "# Cleaning for spanish poetry dataset\n",
    "\n",
    "The main objective is clean our dataset and generate a new one.\n",
    "\n",
    "- Load Dataset\n",
    "- Drop duplicate and NaN\n",
    "- Clean noise\n",
    "- Generate new dataset\n",
    "\n",
    "### Load Dataset"
   ]
  },
  {
   "cell_type": "code",
   "execution_count": 10,
   "metadata": {},
   "outputs": [],
   "source": [
    "## Libraries\n",
    "\n",
    "import pandas as pd\n",
    "import matplotlib.pyplot as plt\n",
    "import seaborn as sns"
   ]
  },
  {
   "cell_type": "code",
   "execution_count": 11,
   "metadata": {},
   "outputs": [
    {
     "data": {
      "text/html": [
       "<div>\n",
       "<style scoped>\n",
       "    .dataframe tbody tr th:only-of-type {\n",
       "        vertical-align: middle;\n",
       "    }\n",
       "\n",
       "    .dataframe tbody tr th {\n",
       "        vertical-align: top;\n",
       "    }\n",
       "\n",
       "    .dataframe thead th {\n",
       "        text-align: right;\n",
       "    }\n",
       "</style>\n",
       "<table border=\"1\" class=\"dataframe\">\n",
       "  <thead>\n",
       "    <tr style=\"text-align: right;\">\n",
       "      <th></th>\n",
       "      <th>Title</th>\n",
       "      <th>Poem</th>\n",
       "      <th>Author</th>\n",
       "    </tr>\n",
       "  </thead>\n",
       "  <tbody>\n",
       "    <tr>\n",
       "      <th>0</th>\n",
       "      <td>Desvaríos</td>\n",
       "      <td>\\n\\n\\r\\nEntre nosotros crece la ropa en las ma...</td>\n",
       "      <td>Ángeles Mastretta</td>\n",
       "    </tr>\n",
       "    <tr>\n",
       "      <th>1</th>\n",
       "      <td>Caminito del indio</td>\n",
       "      <td>\\n\\n\\r\\nCaminito del indio,\\n\\r\\nsendero coya\\...</td>\n",
       "      <td>Atahualpa Yupanqui</td>\n",
       "    </tr>\n",
       "    <tr>\n",
       "      <th>2</th>\n",
       "      <td>El poeta</td>\n",
       "      <td>Tú piensas que eres distinto\\n\\r\\nporque te di...</td>\n",
       "      <td>Atahualpa Yupanqui</td>\n",
       "    </tr>\n",
       "    <tr>\n",
       "      <th>3</th>\n",
       "      <td>Si una guitarra triste...</td>\n",
       "      <td>Si una guitarra triste me dijera\\n\\r\\nque no q...</td>\n",
       "      <td>Atahualpa Yupanqui</td>\n",
       "    </tr>\n",
       "    <tr>\n",
       "      <th>4</th>\n",
       "      <td>¡Adiós!</td>\n",
       "      <td>\\n\\nLas cosas que mueren jamás resucitan, \\r\\n...</td>\n",
       "      <td>Alfonsina Storni</td>\n",
       "    </tr>\n",
       "  </tbody>\n",
       "</table>\n",
       "</div>"
      ],
      "text/plain": [
       "                       Title  \\\n",
       "0                  Desvaríos   \n",
       "1         Caminito del indio   \n",
       "2                   El poeta   \n",
       "3  Si una guitarra triste...   \n",
       "4                    ¡Adiós!   \n",
       "\n",
       "                                                Poem              Author  \n",
       "0  \\n\\n\\r\\nEntre nosotros crece la ropa en las ma...   Ángeles Mastretta  \n",
       "1  \\n\\n\\r\\nCaminito del indio,\\n\\r\\nsendero coya\\...  Atahualpa Yupanqui  \n",
       "2  Tú piensas que eres distinto\\n\\r\\nporque te di...  Atahualpa Yupanqui  \n",
       "3  Si una guitarra triste me dijera\\n\\r\\nque no q...  Atahualpa Yupanqui  \n",
       "4  \\n\\nLas cosas que mueren jamás resucitan, \\r\\n...    Alfonsina Storni  "
      ]
     },
     "execution_count": 11,
     "metadata": {},
     "output_type": "execute_result"
    }
   ],
   "source": [
    "# load and first look to dataset\n",
    "df = pd.read_csv(\"../../data/ES_corpus/PoemasDelAlmaDataset.csv\")\n",
    "\n",
    "df.head()\n"
   ]
  },
  {
   "cell_type": "code",
   "execution_count": 12,
   "metadata": {},
   "outputs": [
    {
     "data": {
      "text/plain": [
       "1667"
      ]
     },
     "execution_count": 12,
     "metadata": {},
     "output_type": "execute_result"
    }
   ],
   "source": [
    "df['Poem'].duplicated().sum() ## Duplicated poems"
   ]
  },
  {
   "cell_type": "code",
   "execution_count": 13,
   "metadata": {},
   "outputs": [],
   "source": [
    "df=df.drop_duplicates(subset=['Poem']) ## We drop where poems are the same, titles and authors could be repeted\n",
    "df=df.dropna(subset=['Title'])"
   ]
  },
  {
   "cell_type": "code",
   "execution_count": 14,
   "metadata": {},
   "outputs": [
    {
     "data": {
      "text/html": [
       "<div>\n",
       "<style scoped>\n",
       "    .dataframe tbody tr th:only-of-type {\n",
       "        vertical-align: middle;\n",
       "    }\n",
       "\n",
       "    .dataframe tbody tr th {\n",
       "        vertical-align: top;\n",
       "    }\n",
       "\n",
       "    .dataframe thead th {\n",
       "        text-align: right;\n",
       "    }\n",
       "</style>\n",
       "<table border=\"1\" class=\"dataframe\">\n",
       "  <thead>\n",
       "    <tr style=\"text-align: right;\">\n",
       "      <th></th>\n",
       "      <th>Title</th>\n",
       "      <th>Poem</th>\n",
       "      <th>Author</th>\n",
       "    </tr>\n",
       "  </thead>\n",
       "  <tbody>\n",
       "    <tr>\n",
       "      <th>count</th>\n",
       "      <td>13066</td>\n",
       "      <td>13066</td>\n",
       "      <td>13066</td>\n",
       "    </tr>\n",
       "    <tr>\n",
       "      <th>unique</th>\n",
       "      <td>12144</td>\n",
       "      <td>13066</td>\n",
       "      <td>1332</td>\n",
       "    </tr>\n",
       "    <tr>\n",
       "      <th>top</th>\n",
       "      <td>Nocturno</td>\n",
       "      <td>\\n\\n\\r\\nEntre nosotros crece la ropa en las ma...</td>\n",
       "      <td>Pablo Neruda</td>\n",
       "    </tr>\n",
       "    <tr>\n",
       "      <th>freq</th>\n",
       "      <td>17</td>\n",
       "      <td>1</td>\n",
       "      <td>236</td>\n",
       "    </tr>\n",
       "  </tbody>\n",
       "</table>\n",
       "</div>"
      ],
      "text/plain": [
       "           Title                                               Poem  \\\n",
       "count      13066                                              13066   \n",
       "unique     12144                                              13066   \n",
       "top     Nocturno  \\n\\n\\r\\nEntre nosotros crece la ropa en las ma...   \n",
       "freq          17                                                  1   \n",
       "\n",
       "              Author  \n",
       "count          13066  \n",
       "unique          1332  \n",
       "top     Pablo Neruda  \n",
       "freq             236  "
      ]
     },
     "execution_count": 14,
     "metadata": {},
     "output_type": "execute_result"
    }
   ],
   "source": [
    "df.describe()"
   ]
  },
  {
   "cell_type": "code",
   "execution_count": 15,
   "metadata": {},
   "outputs": [
    {
     "data": {
      "text/plain": [
       "0"
      ]
     },
     "execution_count": 15,
     "metadata": {},
     "output_type": "execute_result"
    }
   ],
   "source": [
    "df['Poem'].duplicated().sum() ## Duplicated poems cleaned"
   ]
  },
  {
   "cell_type": "code",
   "execution_count": 16,
   "metadata": {},
   "outputs": [
    {
     "data": {
      "image/png": "[encoded data removed]",
      "text/plain": [
       "<Figure size 1000x500 with 1 Axes>"
      ]
     },
     "metadata": {},
     "output_type": "display_data"
    }
   ],
   "source": [
    "plt.figure(figsize=(10,5))\n",
    "sns.histplot(df[\"Poem\"].apply(lambda x: len(x.split())), bins=50, kde=True, color='blue')\n",
    "plt.title('Distribution poem length in words')\n",
    "plt.show()"
   ]
  },
  {
   "cell_type": "code",
   "execution_count": 17,
   "metadata": {},
   "outputs": [
    {
     "data": {
      "text/html": [
       "<div>\n",
       "<style scoped>\n",
       "    .dataframe tbody tr th:only-of-type {\n",
       "        vertical-align: middle;\n",
       "    }\n",
       "\n",
       "    .dataframe tbody tr th {\n",
       "        vertical-align: top;\n",
       "    }\n",
       "\n",
       "    .dataframe thead th {\n",
       "        text-align: right;\n",
       "    }\n",
       "</style>\n",
       "<table border=\"1\" class=\"dataframe\">\n",
       "  <thead>\n",
       "    <tr style=\"text-align: right;\">\n",
       "      <th></th>\n",
       "      <th>Title</th>\n",
       "      <th>Poem</th>\n",
       "      <th>Author</th>\n",
       "    </tr>\n",
       "  </thead>\n",
       "  <tbody>\n",
       "    <tr>\n",
       "      <th>0</th>\n",
       "      <td>Desvaríos</td>\n",
       "      <td>\\n\\n\\r\\nEntre nosotros crece la ropa en las ma...</td>\n",
       "      <td>Ángeles Mastretta</td>\n",
       "    </tr>\n",
       "    <tr>\n",
       "      <th>1</th>\n",
       "      <td>Caminito del indio</td>\n",
       "      <td>\\n\\n\\r\\nCaminito del indio,\\n\\r\\nsendero coya\\...</td>\n",
       "      <td>Atahualpa Yupanqui</td>\n",
       "    </tr>\n",
       "    <tr>\n",
       "      <th>2</th>\n",
       "      <td>El poeta</td>\n",
       "      <td>Tú piensas que eres distinto\\n\\r\\nporque te di...</td>\n",
       "      <td>Atahualpa Yupanqui</td>\n",
       "    </tr>\n",
       "    <tr>\n",
       "      <th>3</th>\n",
       "      <td>Si una guitarra triste...</td>\n",
       "      <td>Si una guitarra triste me dijera\\n\\r\\nque no q...</td>\n",
       "      <td>Atahualpa Yupanqui</td>\n",
       "    </tr>\n",
       "    <tr>\n",
       "      <th>4</th>\n",
       "      <td>¡Adiós!</td>\n",
       "      <td>\\n\\nLas cosas que mueren jamás resucitan, \\r\\n...</td>\n",
       "      <td>Alfonsina Storni</td>\n",
       "    </tr>\n",
       "    <tr>\n",
       "      <th>...</th>\n",
       "      <td>...</td>\n",
       "      <td>...</td>\n",
       "      <td>...</td>\n",
       "    </tr>\n",
       "    <tr>\n",
       "      <th>14704</th>\n",
       "      <td>Vení, lluvia, venite</td>\n",
       "      <td>Vení, lluvia, venite\\n\\r\\ndejate venir hasta c...</td>\n",
       "      <td>Yolanda Blanco</td>\n",
       "    </tr>\n",
       "    <tr>\n",
       "      <th>14740</th>\n",
       "      <td>Historia de hoy</td>\n",
       "      <td>Sin gran habilidad      sin pensarlo      pusi...</td>\n",
       "      <td>Zoé Valdés</td>\n",
       "    </tr>\n",
       "    <tr>\n",
       "      <th>14741</th>\n",
       "      <td>Cazadora de sueños (I)</td>\n",
       "      <td>que dejara de soñar/ me dijo/\\n\\r\\nque basta d...</td>\n",
       "      <td>Zulema Moret</td>\n",
       "    </tr>\n",
       "    <tr>\n",
       "      <th>14742</th>\n",
       "      <td>Cazadora de sueños (IV)</td>\n",
       "      <td>paseo por la casa en ruinas\\n\\r\\nbusco algún a...</td>\n",
       "      <td>Zulema Moret</td>\n",
       "    </tr>\n",
       "    <tr>\n",
       "      <th>14743</th>\n",
       "      <td>Cazadora de sueños (VIII)</td>\n",
       "      <td>Cuando ese hombre\\n\\r\\nme abraza\\n\\r\\npermanez...</td>\n",
       "      <td>Zulema Moret</td>\n",
       "    </tr>\n",
       "  </tbody>\n",
       "</table>\n",
       "<p>12703 rows × 3 columns</p>\n",
       "</div>"
      ],
      "text/plain": [
       "                           Title  \\\n",
       "0                      Desvaríos   \n",
       "1             Caminito del indio   \n",
       "2                       El poeta   \n",
       "3      Si una guitarra triste...   \n",
       "4                        ¡Adiós!   \n",
       "...                          ...   \n",
       "14704       Vení, lluvia, venite   \n",
       "14740            Historia de hoy   \n",
       "14741     Cazadora de sueños (I)   \n",
       "14742    Cazadora de sueños (IV)   \n",
       "14743  Cazadora de sueños (VIII)   \n",
       "\n",
       "                                                    Poem              Author  \n",
       "0      \\n\\n\\r\\nEntre nosotros crece la ropa en las ma...   Ángeles Mastretta  \n",
       "1      \\n\\n\\r\\nCaminito del indio,\\n\\r\\nsendero coya\\...  Atahualpa Yupanqui  \n",
       "2      Tú piensas que eres distinto\\n\\r\\nporque te di...  Atahualpa Yupanqui  \n",
       "3      Si una guitarra triste me dijera\\n\\r\\nque no q...  Atahualpa Yupanqui  \n",
       "4      \\n\\nLas cosas que mueren jamás resucitan, \\r\\n...    Alfonsina Storni  \n",
       "...                                                  ...                 ...  \n",
       "14704  Vení, lluvia, venite\\n\\r\\ndejate venir hasta c...      Yolanda Blanco  \n",
       "14740  Sin gran habilidad      sin pensarlo      pusi...          Zoé Valdés  \n",
       "14741  que dejara de soñar/ me dijo/\\n\\r\\nque basta d...        Zulema Moret  \n",
       "14742  paseo por la casa en ruinas\\n\\r\\nbusco algún a...        Zulema Moret  \n",
       "14743  Cuando ese hombre\\n\\r\\nme abraza\\n\\r\\npermanez...        Zulema Moret  \n",
       "\n",
       "[12703 rows x 3 columns]"
      ]
     },
     "execution_count": 17,
     "metadata": {},
     "output_type": "execute_result"
    }
   ],
   "source": [
    "## As we saw we must drop very long and very short poems in order to avoid noise\n",
    "\n",
    "df = df[df['Poem'].apply(lambda x: len(x.split()) <= 600)]\n",
    "df"
   ]
  },
  {
   "cell_type": "code",
   "execution_count": 18,
   "metadata": {},
   "outputs": [
    {
     "data": {
      "image/png": "[encoded data removed]",
      "text/plain": [
       "<Figure size 1000x500 with 1 Axes>"
      ]
     },
     "metadata": {},
     "output_type": "display_data"
    }
   ],
   "source": [
    "plt.figure(figsize=(10,5))\n",
    "sns.histplot(df[\"Poem\"].apply(lambda x: len(x.split())), bins=50, kde=True, color='blue')\n",
    "plt.title('Distribution poem length in words after cleaning')\n",
    "plt.show()"
   ]
  },
  {
   "cell_type": "code",
   "execution_count": 19,
   "metadata": {},
   "outputs": [],
   "source": [
    "## Save dataset cleaned\n",
    "\n",
    "df.to_csv(\"../../data/ES_corpus/ES_poetry_cleaned.csv\")"
   ]
  }
 ],
 "metadata": {
  "kernelspec": {
   "display_name": "Python 3",
   "language": "python",
   "name": "python3"
  },
  "language_info": {
   "codemirror_mode": {
    "name": "ipython",
    "version": 3
   },
   "file_extension": ".py",
   "mimetype": "text/x-python",
   "name": "python",
   "nbconvert_exporter": "python",
   "pygments_lexer": "ipython3",
   "version": "3.10.12"
  }
 },
 "nbformat": 4,
 "nbformat_minor": 2
}
