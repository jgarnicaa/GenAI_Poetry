{
 "cells": [
  {
   "cell_type": "markdown",
   "id": "26af588a-522d-4bbc-a6c9-4bba3fdebc11",
   "metadata": {},
   "source": [
    "# Exploratory analysis for spanish poetry dataset\n",
    "\n",
    "The main objective is show, see patrons, clean and be more coherent dataset. Drop NaN and duplicated data\n",
    "\n",
    "- Load Dataset\n",
    "- Drop duplicate and NaN\n",
    "- See patrons\n",
    "- Clean data\n",
    "\n",
    "### Load Dataset"
   ]
  },
  {
   "cell_type": "code",
   "execution_count": 1,
   "id": "f2c61b8b-9f31-4e66-ac3c-0650a6c116ee",
   "metadata": {},
   "outputs": [],
   "source": [
    "## Libraries\n",
    "\n",
    "import pandas as pd"
   ]
  },
  {
   "cell_type": "code",
   "execution_count": 8,
   "id": "10448cfb-90a9-47cf-9d8e-5161b9d3ada0",
   "metadata": {},
   "outputs": [
    {
     "data": {
      "text/html": [
       "<div>\n",
       "<style scoped>\n",
       "    .dataframe tbody tr th:only-of-type {\n",
       "        vertical-align: middle;\n",
       "    }\n",
       "\n",
       "    .dataframe tbody tr th {\n",
       "        vertical-align: top;\n",
       "    }\n",
       "\n",
       "    .dataframe thead th {\n",
       "        text-align: right;\n",
       "    }\n",
       "</style>\n",
       "<table border=\"1\" class=\"dataframe\">\n",
       "  <thead>\n",
       "    <tr style=\"text-align: right;\">\n",
       "      <th></th>\n",
       "      <th>Title</th>\n",
       "      <th>Poem</th>\n",
       "      <th>Author</th>\n",
       "    </tr>\n",
       "  </thead>\n",
       "  <tbody>\n",
       "    <tr>\n",
       "      <th>0</th>\n",
       "      <td>Desvaríos</td>\n",
       "      <td>\\n\\n\\r\\nEntre nosotros crece la ropa en las ma...</td>\n",
       "      <td>Ángeles Mastretta</td>\n",
       "    </tr>\n",
       "    <tr>\n",
       "      <th>1</th>\n",
       "      <td>Caminito del indio</td>\n",
       "      <td>\\n\\n\\r\\nCaminito del indio,\\n\\r\\nsendero coya\\...</td>\n",
       "      <td>Atahualpa Yupanqui</td>\n",
       "    </tr>\n",
       "    <tr>\n",
       "      <th>2</th>\n",
       "      <td>El poeta</td>\n",
       "      <td>Tú piensas que eres distinto\\n\\r\\nporque te di...</td>\n",
       "      <td>Atahualpa Yupanqui</td>\n",
       "    </tr>\n",
       "    <tr>\n",
       "      <th>3</th>\n",
       "      <td>Si una guitarra triste...</td>\n",
       "      <td>Si una guitarra triste me dijera\\n\\r\\nque no q...</td>\n",
       "      <td>Atahualpa Yupanqui</td>\n",
       "    </tr>\n",
       "    <tr>\n",
       "      <th>4</th>\n",
       "      <td>¡Adiós!</td>\n",
       "      <td>\\n\\nLas cosas que mueren jamás resucitan, \\r\\n...</td>\n",
       "      <td>Alfonsina Storni</td>\n",
       "    </tr>\n",
       "  </tbody>\n",
       "</table>\n",
       "</div>"
      ],
      "text/plain": [
       "                       Title  \\\n",
       "0                  Desvaríos   \n",
       "1         Caminito del indio   \n",
       "2                   El poeta   \n",
       "3  Si una guitarra triste...   \n",
       "4                    ¡Adiós!   \n",
       "\n",
       "                                                Poem              Author  \n",
       "0  \\n\\n\\r\\nEntre nosotros crece la ropa en las ma...   Ángeles Mastretta  \n",
       "1  \\n\\n\\r\\nCaminito del indio,\\n\\r\\nsendero coya\\...  Atahualpa Yupanqui  \n",
       "2  Tú piensas que eres distinto\\n\\r\\nporque te di...  Atahualpa Yupanqui  \n",
       "3  Si una guitarra triste me dijera\\n\\r\\nque no q...  Atahualpa Yupanqui  \n",
       "4  \\n\\nLas cosas que mueren jamás resucitan, \\r\\n...    Alfonsina Storni  "
      ]
     },
     "execution_count": 8,
     "metadata": {},
     "output_type": "execute_result"
    }
   ],
   "source": [
    "# load and first look to dataset\n",
    "df = pd.read_csv(\"../../data/ES_corpus/PoemasDelAlmaDataset.csv\")\n",
    "\n",
    "df.head()"
   ]
  },
  {
   "cell_type": "code",
   "execution_count": 3,
   "id": "0085bb12",
   "metadata": {},
   "outputs": [
    {
     "name": "stdout",
     "output_type": "stream",
     "text": [
      "<class 'pandas.core.frame.DataFrame'>\n",
      "RangeIndex: 14750 entries, 0 to 14749\n",
      "Data columns (total 3 columns):\n",
      " #   Column  Non-Null Count  Dtype \n",
      "---  ------  --------------  ----- \n",
      " 0   Title   14694 non-null  object\n",
      " 1   Poem    14726 non-null  object\n",
      " 2   Author  14750 non-null  object\n",
      "dtypes: object(3)\n",
      "memory usage: 345.8+ KB\n"
     ]
    }
   ],
   "source": [
    "df.info()"
   ]
  },
  {
   "cell_type": "code",
   "execution_count": 4,
   "id": "d67b418f",
   "metadata": {},
   "outputs": [
    {
     "data": {
      "text/html": [
       "<div>\n",
       "<style scoped>\n",
       "    .dataframe tbody tr th:only-of-type {\n",
       "        vertical-align: middle;\n",
       "    }\n",
       "\n",
       "    .dataframe tbody tr th {\n",
       "        vertical-align: top;\n",
       "    }\n",
       "\n",
       "    .dataframe thead th {\n",
       "        text-align: right;\n",
       "    }\n",
       "</style>\n",
       "<table border=\"1\" class=\"dataframe\">\n",
       "  <thead>\n",
       "    <tr style=\"text-align: right;\">\n",
       "      <th></th>\n",
       "      <th>Title</th>\n",
       "      <th>Poem</th>\n",
       "      <th>Author</th>\n",
       "    </tr>\n",
       "  </thead>\n",
       "  <tbody>\n",
       "    <tr>\n",
       "      <th>count</th>\n",
       "      <td>14694</td>\n",
       "      <td>14726</td>\n",
       "      <td>14750</td>\n",
       "    </tr>\n",
       "    <tr>\n",
       "      <th>unique</th>\n",
       "      <td>12148</td>\n",
       "      <td>13082</td>\n",
       "      <td>1354</td>\n",
       "    </tr>\n",
       "    <tr>\n",
       "      <th>top</th>\n",
       "      <td>Nocturno</td>\n",
       "      <td>Todo el dolor te navegaba por la sangre.\\n\\r\\n...</td>\n",
       "      <td>Luis de Góngora</td>\n",
       "    </tr>\n",
       "    <tr>\n",
       "      <th>freq</th>\n",
       "      <td>21</td>\n",
       "      <td>4</td>\n",
       "      <td>436</td>\n",
       "    </tr>\n",
       "  </tbody>\n",
       "</table>\n",
       "</div>"
      ],
      "text/plain": [
       "           Title                                               Poem  \\\n",
       "count      14694                                              14726   \n",
       "unique     12148                                              13082   \n",
       "top     Nocturno  Todo el dolor te navegaba por la sangre.\\n\\r\\n...   \n",
       "freq          21                                                  4   \n",
       "\n",
       "                 Author  \n",
       "count             14750  \n",
       "unique             1354  \n",
       "top     Luis de Góngora  \n",
       "freq                436  "
      ]
     },
     "execution_count": 4,
     "metadata": {},
     "output_type": "execute_result"
    }
   ],
   "source": [
    "df.describe()"
   ]
  },
  {
   "cell_type": "markdown",
   "id": "7e8e1941",
   "metadata": {},
   "source": [
    "### First look:\n",
    "\n",
    "We can see there some null objects in \"Title\" column and we have many titles duplicate (~2500) and some poem duplicated too(~1700), we're going to see how to clean it\n",
    "\n",
    "### Dropping:"
   ]
  },
  {
   "cell_type": "code",
   "execution_count": 11,
   "id": "0b730020",
   "metadata": {},
   "outputs": [],
   "source": [
    "df=df.drop_duplicates(subset=['Poem']) ## We drop where poems are the same, titles and authors could be repeted\n",
    "df=df.dropna(subset=['Title'])"
   ]
  },
  {
   "cell_type": "code",
   "execution_count": 12,
   "id": "b0fb3ab2",
   "metadata": {},
   "outputs": [
    {
     "data": {
      "text/html": [
       "<div>\n",
       "<style scoped>\n",
       "    .dataframe tbody tr th:only-of-type {\n",
       "        vertical-align: middle;\n",
       "    }\n",
       "\n",
       "    .dataframe tbody tr th {\n",
       "        vertical-align: top;\n",
       "    }\n",
       "\n",
       "    .dataframe thead th {\n",
       "        text-align: right;\n",
       "    }\n",
       "</style>\n",
       "<table border=\"1\" class=\"dataframe\">\n",
       "  <thead>\n",
       "    <tr style=\"text-align: right;\">\n",
       "      <th></th>\n",
       "      <th>Title</th>\n",
       "      <th>Poem</th>\n",
       "      <th>Author</th>\n",
       "    </tr>\n",
       "  </thead>\n",
       "  <tbody>\n",
       "    <tr>\n",
       "      <th>count</th>\n",
       "      <td>13066</td>\n",
       "      <td>13066</td>\n",
       "      <td>13066</td>\n",
       "    </tr>\n",
       "    <tr>\n",
       "      <th>unique</th>\n",
       "      <td>12144</td>\n",
       "      <td>13066</td>\n",
       "      <td>1332</td>\n",
       "    </tr>\n",
       "    <tr>\n",
       "      <th>top</th>\n",
       "      <td>Nocturno</td>\n",
       "      <td>\\n\\n\\r\\nEntre nosotros crece la ropa en las ma...</td>\n",
       "      <td>Pablo Neruda</td>\n",
       "    </tr>\n",
       "    <tr>\n",
       "      <th>freq</th>\n",
       "      <td>17</td>\n",
       "      <td>1</td>\n",
       "      <td>236</td>\n",
       "    </tr>\n",
       "  </tbody>\n",
       "</table>\n",
       "</div>"
      ],
      "text/plain": [
       "           Title                                               Poem  \\\n",
       "count      13066                                              13066   \n",
       "unique     12144                                              13066   \n",
       "top     Nocturno  \\n\\n\\r\\nEntre nosotros crece la ropa en las ma...   \n",
       "freq          17                                                  1   \n",
       "\n",
       "              Author  \n",
       "count          13066  \n",
       "unique          1332  \n",
       "top     Pablo Neruda  \n",
       "freq             236  "
      ]
     },
     "execution_count": 12,
     "metadata": {},
     "output_type": "execute_result"
    }
   ],
   "source": [
    "df.describe()"
   ]
  },
  {
   "cell_type": "code",
   "execution_count": 13,
   "id": "3b7206c9",
   "metadata": {},
   "outputs": [
    {
     "name": "stdout",
     "output_type": "stream",
     "text": [
      "<class 'pandas.core.frame.DataFrame'>\n",
      "Index: 13066 entries, 0 to 14743\n",
      "Data columns (total 3 columns):\n",
      " #   Column  Non-Null Count  Dtype \n",
      "---  ------  --------------  ----- \n",
      " 0   Title   13066 non-null  object\n",
      " 1   Poem    13066 non-null  object\n",
      " 2   Author  13066 non-null  object\n",
      "dtypes: object(3)\n",
      "memory usage: 408.3+ KB\n"
     ]
    }
   ],
   "source": [
    "df.info()"
   ]
  },
  {
   "cell_type": "code",
   "execution_count": 15,
   "id": "1e62441d",
   "metadata": {},
   "outputs": [
    {
     "data": {
      "text/html": [
       "<div>\n",
       "<style scoped>\n",
       "    .dataframe tbody tr th:only-of-type {\n",
       "        vertical-align: middle;\n",
       "    }\n",
       "\n",
       "    .dataframe tbody tr th {\n",
       "        vertical-align: top;\n",
       "    }\n",
       "\n",
       "    .dataframe thead th {\n",
       "        text-align: right;\n",
       "    }\n",
       "</style>\n",
       "<table border=\"1\" class=\"dataframe\">\n",
       "  <thead>\n",
       "    <tr style=\"text-align: right;\">\n",
       "      <th></th>\n",
       "      <th>Title</th>\n",
       "      <th>Poem</th>\n",
       "      <th>Author</th>\n",
       "    </tr>\n",
       "  </thead>\n",
       "  <tbody>\n",
       "    <tr>\n",
       "      <th>0</th>\n",
       "      <td>Desvaríos</td>\n",
       "      <td>\\n\\n\\r\\nEntre nosotros crece la ropa en las ma...</td>\n",
       "      <td>Ángeles Mastretta</td>\n",
       "    </tr>\n",
       "    <tr>\n",
       "      <th>1</th>\n",
       "      <td>Caminito del indio</td>\n",
       "      <td>\\n\\n\\r\\nCaminito del indio,\\n\\r\\nsendero coya\\...</td>\n",
       "      <td>Atahualpa Yupanqui</td>\n",
       "    </tr>\n",
       "    <tr>\n",
       "      <th>2</th>\n",
       "      <td>El poeta</td>\n",
       "      <td>Tú piensas que eres distinto\\n\\r\\nporque te di...</td>\n",
       "      <td>Atahualpa Yupanqui</td>\n",
       "    </tr>\n",
       "    <tr>\n",
       "      <th>3</th>\n",
       "      <td>Si una guitarra triste...</td>\n",
       "      <td>Si una guitarra triste me dijera\\n\\r\\nque no q...</td>\n",
       "      <td>Atahualpa Yupanqui</td>\n",
       "    </tr>\n",
       "    <tr>\n",
       "      <th>4</th>\n",
       "      <td>¡Adiós!</td>\n",
       "      <td>\\n\\nLas cosas que mueren jamás resucitan, \\r\\n...</td>\n",
       "      <td>Alfonsina Storni</td>\n",
       "    </tr>\n",
       "  </tbody>\n",
       "</table>\n",
       "</div>"
      ],
      "text/plain": [
       "                       Title  \\\n",
       "0                  Desvaríos   \n",
       "1         Caminito del indio   \n",
       "2                   El poeta   \n",
       "3  Si una guitarra triste...   \n",
       "4                    ¡Adiós!   \n",
       "\n",
       "                                                Poem              Author  \n",
       "0  \\n\\n\\r\\nEntre nosotros crece la ropa en las ma...   Ángeles Mastretta  \n",
       "1  \\n\\n\\r\\nCaminito del indio,\\n\\r\\nsendero coya\\...  Atahualpa Yupanqui  \n",
       "2  Tú piensas que eres distinto\\n\\r\\nporque te di...  Atahualpa Yupanqui  \n",
       "3  Si una guitarra triste me dijera\\n\\r\\nque no q...  Atahualpa Yupanqui  \n",
       "4  \\n\\nLas cosas que mueren jamás resucitan, \\r\\n...    Alfonsina Storni  "
      ]
     },
     "execution_count": 15,
     "metadata": {},
     "output_type": "execute_result"
    }
   ],
   "source": [
    "df.head()"
   ]
  },
  {
   "cell_type": "markdown",
   "id": "11c32a1d",
   "metadata": {},
   "source": [
    "### Dropped: \n",
    "\n",
    "We saw there are ~13k poems with its title and author. Now we're going to see some examples of them and we'll clean it up\n",
    "\n",
    "### Cleaning:"
   ]
  },
  {
   "cell_type": "code",
   "execution_count": null,
   "id": "057b4750",
   "metadata": {},
   "outputs": [],
   "source": []
  }
 ],
 "metadata": {
  "kernelspec": {
   "display_name": "Python 3",
   "language": "python",
   "name": "python3"
  },
  "language_info": {
   "codemirror_mode": {
    "name": "ipython",
    "version": 3
   },
   "file_extension": ".py",
   "mimetype": "text/x-python",
   "name": "python",
   "nbconvert_exporter": "python",
   "pygments_lexer": "ipython3",
   "version": "3.10.12"
  }
 },
 "nbformat": 4,
 "nbformat_minor": 5
}
